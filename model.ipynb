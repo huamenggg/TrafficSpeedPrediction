{
 "cells": [
  {
   "cell_type": "code",
   "execution_count": 1,
   "metadata": {
    "_cell_guid": "b1076dfc-b9ad-4769-8c92-a6c4dae69d19",
    "_uuid": "8f2839f25d086af736a60e9eeb907d3b93b6e0e5"
   },
   "outputs": [
    {
     "name": "stdout",
     "output_type": "stream",
     "text": [
      "/kaggle/input/weathers/weather.csv\n",
      "/kaggle/input/5001mh/train.csv\n",
      "/kaggle/input/5001mh/test.csv\n"
     ]
    }
   ],
   "source": [
    "# This Python 3 environment comes with many helpful analytics libraries installed\n",
    "# It is defined by the kaggle/python Docker image: https://github.com/kaggle/docker-python\n",
    "# For example, here's several helpful packages to load\n",
    "\n",
    "import numpy as np # linear algebra\n",
    "import pandas as pd # data processing, CSV file I/O (e.g. pd.read_csv)\n",
    "\n",
    "# Input data files are available in the read-only \"../input/\" directory\n",
    "# For example, running this (by clicking run or pressing Shift+Enter) will list all files under the input directory\n",
    "\n",
    "import os\n",
    "for dirname, _, filenames in os.walk('/kaggle/input'):\n",
    "    for filename in filenames:\n",
    "        print(os.path.join(dirname, filename))\n",
    "\n",
    "# You can write up to 20GB to the current directory (/kaggle/working/) that gets preserved as output when you create a version using \"Save & Run All\" \n",
    "# You can also write temporary files to /kaggle/temp/, but they won't be saved outside of the current session"
   ]
  },
  {
   "cell_type": "code",
   "execution_count": 2,
   "metadata": {},
   "outputs": [],
   "source": [
    "from sklearn.ensemble import RandomForestRegressor\n",
    "from sklearn.metrics import mean_squared_error\n",
    "from sklearn.model_selection import train_test_split\n",
    "from sklearn.model_selection import TimeSeriesSplit\n",
    "from sklearn.model_selection import cross_val_score, KFold\n",
    "import matplotlib.pyplot as plt\n",
    "import xgboost as xgb\n",
    "from sklearn.model_selection import RandomizedSearchCV\n",
    "from sklearn.model_selection import GridSearchCV\n",
    "from sklearn.model_selection import StratifiedKFold\n",
    "import datetime"
   ]
  },
  {
   "cell_type": "code",
   "execution_count": 3,
   "metadata": {
    "_cell_guid": "79c7e3d0-c299-4dcb-8224-4455121ee9b0",
    "_uuid": "d629ff2d2480ee46fbb7e2d37f6b5fab8052498a"
   },
   "outputs": [
    {
     "data": {
      "text/html": [
       "<div>\n",
       "<style scoped>\n",
       "    .dataframe tbody tr th:only-of-type {\n",
       "        vertical-align: middle;\n",
       "    }\n",
       "\n",
       "    .dataframe tbody tr th {\n",
       "        vertical-align: top;\n",
       "    }\n",
       "\n",
       "    .dataframe thead th {\n",
       "        text-align: right;\n",
       "    }\n",
       "</style>\n",
       "<table border=\"1\" class=\"dataframe\">\n",
       "  <thead>\n",
       "    <tr style=\"text-align: right;\">\n",
       "      <th></th>\n",
       "      <th>id</th>\n",
       "      <th>date</th>\n",
       "      <th>speed</th>\n",
       "    </tr>\n",
       "  </thead>\n",
       "  <tbody>\n",
       "    <tr>\n",
       "      <th>0</th>\n",
       "      <td>0</td>\n",
       "      <td>1/1/2017 0:00</td>\n",
       "      <td>43.002930</td>\n",
       "    </tr>\n",
       "    <tr>\n",
       "      <th>1</th>\n",
       "      <td>1</td>\n",
       "      <td>1/1/2017 1:00</td>\n",
       "      <td>46.118696</td>\n",
       "    </tr>\n",
       "    <tr>\n",
       "      <th>2</th>\n",
       "      <td>2</td>\n",
       "      <td>1/1/2017 2:00</td>\n",
       "      <td>44.294158</td>\n",
       "    </tr>\n",
       "    <tr>\n",
       "      <th>3</th>\n",
       "      <td>3</td>\n",
       "      <td>1/1/2017 3:00</td>\n",
       "      <td>41.067468</td>\n",
       "    </tr>\n",
       "    <tr>\n",
       "      <th>4</th>\n",
       "      <td>4</td>\n",
       "      <td>1/1/2017 4:00</td>\n",
       "      <td>46.448653</td>\n",
       "    </tr>\n",
       "    <tr>\n",
       "      <th>5</th>\n",
       "      <td>5</td>\n",
       "      <td>1/1/2017 5:00</td>\n",
       "      <td>46.797766</td>\n",
       "    </tr>\n",
       "    <tr>\n",
       "      <th>6</th>\n",
       "      <td>6</td>\n",
       "      <td>1/1/2017 6:00</td>\n",
       "      <td>44.404925</td>\n",
       "    </tr>\n",
       "    <tr>\n",
       "      <th>7</th>\n",
       "      <td>7</td>\n",
       "      <td>1/1/2017 7:00</td>\n",
       "      <td>45.255897</td>\n",
       "    </tr>\n",
       "    <tr>\n",
       "      <th>8</th>\n",
       "      <td>8</td>\n",
       "      <td>1/1/2017 8:00</td>\n",
       "      <td>45.680859</td>\n",
       "    </tr>\n",
       "    <tr>\n",
       "      <th>9</th>\n",
       "      <td>9</td>\n",
       "      <td>1/1/2017 9:00</td>\n",
       "      <td>48.435676</td>\n",
       "    </tr>\n",
       "  </tbody>\n",
       "</table>\n",
       "</div>"
      ],
      "text/plain": [
       "   id           date      speed\n",
       "0   0  1/1/2017 0:00  43.002930\n",
       "1   1  1/1/2017 1:00  46.118696\n",
       "2   2  1/1/2017 2:00  44.294158\n",
       "3   3  1/1/2017 3:00  41.067468\n",
       "4   4  1/1/2017 4:00  46.448653\n",
       "5   5  1/1/2017 5:00  46.797766\n",
       "6   6  1/1/2017 6:00  44.404925\n",
       "7   7  1/1/2017 7:00  45.255897\n",
       "8   8  1/1/2017 8:00  45.680859\n",
       "9   9  1/1/2017 9:00  48.435676"
      ]
     },
     "execution_count": 3,
     "metadata": {},
     "output_type": "execute_result"
    }
   ],
   "source": [
    "train=pd.read_csv('train.csv')\n",
    "test=pd.read_csv('test.csv')\n",
    "train.head(10)"
   ]
  },
  {
   "cell_type": "code",
   "execution_count": 4,
   "metadata": {},
   "outputs": [
    {
     "data": {
      "image/png": "[encoded data removed]",
      "text/plain": [
       "<Figure size 432x288 with 1 Axes>"
      ]
     },
     "metadata": {
      "needs_background": "light"
     },
     "output_type": "display_data"
    }
   ],
   "source": [
    "train.isna().value_counts()\n",
    "train['date'] = pd.to_datetime(train['date'])\n",
    "draw = train[(train['date'] < pd.to_datetime('1/6/2017')) & (train['date'] >= pd.to_datetime('1/5/2017'))]\n",
    "draw.plot(x ='date', y='speed', kind = 'line')\n",
    "plt.show()"
   ]
  },
  {
   "cell_type": "code",
   "execution_count": 5,
   "metadata": {},
   "outputs": [],
   "source": [
    "#Hong Kong holidays\n",
    "#taken from https://www.gov.hk/en/about/abouthk/holiday/2018.htm\n",
    "public_vacation_list = [\n",
    "    '20170102', '20170128', '20170130', '20170131', '20170404',\n",
    "    '20170414', '20170415', '20170417', '20170501', '20170503',\n",
    "    '20170530', '20170701', '20171002', '20171005', '20171028',\n",
    "    '20171225', '20171226', '20180101', '20180216', '20180217',\n",
    "    '20180219', '20180330', '20180331', '20180402', '20180405',\n",
    "    '20180501', '20180522', '20180618', '20180702', '20180925',\n",
    "    '20181001', '20181017', '20181225', '20181226'\n",
    "]"
   ]
  },
  {
   "cell_type": "code",
   "execution_count": 6,
   "metadata": {},
   "outputs": [
    {
     "name": "stdout",
     "output_type": "stream",
     "text": [
      "     year  month  day  MaxTemp  MinTemp  isRain\n",
      "0    2017      1    1     20.8     18.4       0\n",
      "1    2017      1    2     23.3     18.4       0\n",
      "2    2017      1    3     21.3     18.9       0\n",
      "3    2017      1    4     21.7     18.7       0\n",
      "4    2017      1    5     23.4     18.9       0\n",
      "..    ...    ...  ...      ...      ...     ...\n",
      "725  2018     12   27     22.8     18.9       0\n",
      "726  2018     12   28     20.2     16.3       0\n",
      "727  2018     12   29     16.3     12.5       0\n",
      "728  2018     12   30     15.4     10.3       0\n",
      "729  2018     12   31     15.6     11.8       0\n",
      "\n",
      "[730 rows x 6 columns]\n"
     ]
    }
   ],
   "source": [
    "weather = pd.read_csv('weather.csv')\n",
    "print(weather)"
   ]
  },
  {
   "cell_type": "code",
   "execution_count": 7,
   "metadata": {},
   "outputs": [
    {
     "name": "stdout",
     "output_type": "stream",
     "text": [
      "                     date      speed  year  month  day  hour  weekday  \\\n",
      "0     2017-01-01 00:00:00  43.002930  2017      1    1     0        6   \n",
      "1     2017-01-01 01:00:00  46.118696  2017      1    1     1        6   \n",
      "2     2017-01-01 02:00:00  44.294158  2017      1    1     2        6   \n",
      "3     2017-01-01 03:00:00  41.067468  2017      1    1     3        6   \n",
      "4     2017-01-01 04:00:00  46.448653  2017      1    1     4        6   \n",
      "...                   ...        ...   ...    ...  ...   ...      ...   \n",
      "14001 2018-12-31 12:00:00  19.865269  2018     12   31    12        0   \n",
      "14002 2018-12-31 15:00:00  17.820375  2018     12   31    15        0   \n",
      "14003 2018-12-31 16:00:00  12.501851  2018     12   31    16        0   \n",
      "14004 2018-12-31 18:00:00  15.979319  2018     12   31    18        0   \n",
      "14005 2018-12-31 20:00:00  40.594183  2018     12   31    20        0   \n",
      "\n",
      "       quarter  dayofyear  weekofyear  isBusyHour  is_public_holiday  \n",
      "0            1          1          52           0                  0  \n",
      "1            1          1          52           0                  0  \n",
      "2            1          1          52           0                  0  \n",
      "3            1          1          52           0                  0  \n",
      "4            1          1          52           0                  0  \n",
      "...        ...        ...         ...         ...                ...  \n",
      "14001        4        365           1           1                  0  \n",
      "14002        4        365           1           1                  0  \n",
      "14003        4        365           1           1                  0  \n",
      "14004        4        365           1           1                  0  \n",
      "14005        4        365           1           0                  0  \n",
      "\n",
      "[14006 rows x 12 columns]\n"
     ]
    },
    {
     "name": "stderr",
     "output_type": "stream",
     "text": [
      "/opt/conda/lib/python3.7/site-packages/ipykernel_launcher.py:8: FutureWarning: Series.dt.weekofyear and Series.dt.week have been deprecated.  Please use Series.dt.isocalendar().week instead.\n",
      "  \n"
     ]
    }
   ],
   "source": [
    "train['year'] = train['date'].dt.year\n",
    "train['month'] = train['date'].dt.month\n",
    "train['day'] = train['date'].dt.day\n",
    "train['hour'] = train['date'].dt.hour\n",
    "train['weekday']=train['date'].dt.dayofweek\n",
    "train['quarter'] = train['date'].dt.quarter\n",
    "train['dayofyear'] = train['date'].dt.dayofyear\n",
    "train['weekofyear'] = train['date'].dt.week\n",
    "train['isBusyHour'] =train['date'].dt.time.apply(lambda x: 0 if \\\n",
    "                                                 datetime.time(0) <= x <= datetime.time(6) \\\n",
    "                                                 or datetime.time(20) <= x <= datetime.time(23) else 1)\n",
    "train['is_public_holiday'] = train['date'].apply(lambda x: 1 if x in public_vacation_list else 0)\n",
    "del train['id']\n",
    "print(train)"
   ]
  },
  {
   "cell_type": "code",
   "execution_count": 8,
   "metadata": {},
   "outputs": [
    {
     "name": "stdout",
     "output_type": "stream",
     "text": [
      "                     date      speed  year  month  day  hour  weekday  \\\n",
      "0     2017-01-01 00:00:00  43.002930  2017      1    1     0        6   \n",
      "1     2017-01-01 01:00:00  46.118696  2017      1    1     1        6   \n",
      "2     2017-01-01 02:00:00  44.294158  2017      1    1     2        6   \n",
      "3     2017-01-01 03:00:00  41.067468  2017      1    1     3        6   \n",
      "4     2017-01-01 04:00:00  46.448653  2017      1    1     4        6   \n",
      "...                   ...        ...   ...    ...  ...   ...      ...   \n",
      "14001 2018-12-31 12:00:00  19.865269  2018     12   31    12        0   \n",
      "14002 2018-12-31 15:00:00  17.820375  2018     12   31    15        0   \n",
      "14003 2018-12-31 16:00:00  12.501851  2018     12   31    16        0   \n",
      "14004 2018-12-31 18:00:00  15.979319  2018     12   31    18        0   \n",
      "14005 2018-12-31 20:00:00  40.594183  2018     12   31    20        0   \n",
      "\n",
      "       quarter  dayofyear  weekofyear  isBusyHour  is_public_holiday  MaxTemp  \\\n",
      "0            1          1          52           0                  0     20.8   \n",
      "1            1          1          52           0                  0     20.8   \n",
      "2            1          1          52           0                  0     20.8   \n",
      "3            1          1          52           0                  0     20.8   \n",
      "4            1          1          52           0                  0     20.8   \n",
      "...        ...        ...         ...         ...                ...      ...   \n",
      "14001        4        365           1           1                  0     15.6   \n",
      "14002        4        365           1           1                  0     15.6   \n",
      "14003        4        365           1           1                  0     15.6   \n",
      "14004        4        365           1           1                  0     15.6   \n",
      "14005        4        365           1           0                  0     15.6   \n",
      "\n",
      "       MinTemp  isRain  \n",
      "0         18.4       0  \n",
      "1         18.4       0  \n",
      "2         18.4       0  \n",
      "3         18.4       0  \n",
      "4         18.4       0  \n",
      "...        ...     ...  \n",
      "14001     11.8       0  \n",
      "14002     11.8       0  \n",
      "14003     11.8       0  \n",
      "14004     11.8       0  \n",
      "14005     11.8       0  \n",
      "\n",
      "[14006 rows x 15 columns]\n"
     ]
    }
   ],
   "source": [
    "train = pd.merge(train,weather,on=['year','month', 'day'])\n",
    "print(train)"
   ]
  },
  {
   "cell_type": "code",
   "execution_count": 9,
   "metadata": {},
   "outputs": [
    {
     "name": "stdout",
     "output_type": "stream",
     "text": [
      "       year  month  day  hour  weekday  quarter  dayofyear  weekofyear  \\\n",
      "5888   2017      3    9    18        3        1         68          10   \n",
      "9565   2018      2   25    12        6        1         56           8   \n",
      "3429   2017      5   24     6        2        2        144          21   \n",
      "13856  2018     12   20    21        3        4        354          51   \n",
      "7801   2017     11   22    11        2        4        326          47   \n",
      "...     ...    ...  ...   ...      ...      ...        ...         ...   \n",
      "9811   2018      3   14     5        2        1         73          11   \n",
      "5078   2017      1    8     0        6        1          8           1   \n",
      "3310   2017      5   19     7        4        2        139          20   \n",
      "12047  2018     11    8    15        3        4        312          45   \n",
      "13189  2018      1   11    18        3        1         11           2   \n",
      "\n",
      "       isBusyHour  is_public_holiday  MaxTemp  MinTemp  isRain  \n",
      "5888            1                  0     19.6     16.0       0  \n",
      "9565            1                  0     23.5     18.4       0  \n",
      "3429            0                  0     26.2     24.2       1  \n",
      "13856           0                  0     23.2     20.1       0  \n",
      "7801            1                  0     22.9     17.3       0  \n",
      "...           ...                ...      ...      ...     ...  \n",
      "9811            0                  0     20.8     19.4       1  \n",
      "5078            0                  0     25.5     20.5       0  \n",
      "3310            1                  0     26.0     23.7       1  \n",
      "12047           1                  0     27.3     23.9       0  \n",
      "13189           1                  0     16.1     12.1       0  \n",
      "\n",
      "[11204 rows x 13 columns]\n",
      "5888     32.420786\n",
      "9565     39.375785\n",
      "3429     41.193113\n",
      "13856    30.314103\n",
      "7801     23.847397\n",
      "           ...    \n",
      "9811     48.561827\n",
      "5078     49.031762\n",
      "3310     28.795277\n",
      "12047    25.030163\n",
      "13189    10.755000\n",
      "Name: speed, Length: 11204, dtype: float64\n"
     ]
    }
   ],
   "source": [
    "X = train.copy()\n",
    "del X['speed']\n",
    "del X['date']\n",
    "y = train['speed']\n",
    "X_train,X_test,y_train,y_test = train_test_split(X, y, test_size=0.2)\n",
    "print(X_train)\n",
    "print(y_train)"
   ]
  },
  {
   "cell_type": "code",
   "execution_count": 11,
   "metadata": {},
   "outputs": [
    {
     "name": "stdout",
     "output_type": "stream",
     "text": [
      "Start cross validation\n",
      "Best number of trees = 10\n",
      "MSE: 12.75\n"
     ]
    }
   ],
   "source": [
    "# This is the final model\n",
    "xgtrain = xgb.DMatrix(X_train, label=y_train)\n",
    "xgbr = xgb.XGBRegressor(learning_rate=0.05,\n",
    "                         n_estimators=410,\n",
    "                         max_depth=19,\n",
    "                         min_child_weight=4.1,\n",
    "                         seed=0,\n",
    "                         subsample=0.8,\n",
    "                         colsample_bytree=0.8,\n",
    "                         gamma=0.3,\n",
    "                         reg_alpha=23,\n",
    "                         reg_lambda=0.05)\n",
    "xgb_param = xgbr.get_xgb_params()\n",
    "\n",
    "print('Start cross validation')\n",
    "cvresult = xgb.cv(xgb_param, xgtrain, nfold=5, metrics=['rmse'])\n",
    "print('Best number of trees = {}'.format(cvresult.shape[0]))\n",
    "xgbr.fit(X_train, y_train, eval_metric='rmse')\n",
    "y_pred = xgbr.predict(X_test)\n",
    "mse = mean_squared_error(y_test, y_pred)\n",
    "print(\"MSE: %.2f\" % mse)"
   ]
  },
  {
   "cell_type": "code",
   "execution_count": 171,
   "metadata": {},
   "outputs": [
    {
     "name": "stdout",
     "output_type": "stream",
     "text": [
      "Fitting 5 folds for each of 5 candidates, totalling 25 fits\n"
     ]
    },
    {
     "name": "stderr",
     "output_type": "stream",
     "text": [
      "[Parallel(n_jobs=4)]: Using backend LokyBackend with 4 concurrent workers.\n",
      "[Parallel(n_jobs=4)]: Done  25 out of  25 | elapsed:  1.2min finished\n"
     ]
    },
    {
     "name": "stdout",
     "output_type": "stream",
     "text": [
      "参数的最佳取值：{'colsample_bytree': 0.7}\n",
      "最佳模型得分:0.9210034899347066\n"
     ]
    }
   ],
   "source": [
    "# this is the parameters optimization process\n",
    "cv_params = {'colsample_bytree': [0.6, 0.65, 0.70, 0.75, 0.76]}\n",
    "other_params = {'objective': 'reg:squarederror',\n",
    "                'learning_rate': 0.05,\n",
    "                'n_estimators': 410,\n",
    "                'max_depth': 19,\n",
    "                'min_child_weight': 4.1,\n",
    "                'seed': 0,\n",
    "                'subsample': 0.8,\n",
    "                'colsample_bytree': 0.8,\n",
    "                'gamma': 0.3,\n",
    "                'reg_alpha': 23,\n",
    "                'reg_lambda': 0.05,\n",
    "                'subsample': 0.8,\n",
    "                'colsample_bytree': 0.7}\n",
    "\n",
    "model = xgb.XGBRegressor(**other_params)\n",
    "optimized_GBM = GridSearchCV(estimator=model, param_grid=cv_params,\n",
    "                             scoring='r2', cv=5, verbose=1, n_jobs=4)\n",
    "optimized_GBM.fit(X_train, y_train)\n",
    "#evalute_result = optimized_GBM.cv_scores_\n",
    "#print('每轮迭代运行结果:{0}'.format(evalute_result))\n",
    "print('参数的最佳取值：{0}'.format(optimized_GBM.best_params_))\n",
    "print('最佳模型得分:{0}'.format(optimized_GBM.best_score_))"
   ]
  },
  {
   "cell_type": "code",
   "execution_count": 12,
   "metadata": {},
   "outputs": [
    {
     "data": {
      "image/png": "[encoded data removed]",
      "text/plain": [
       "<Figure size 432x288 with 1 Axes>"
      ]
     },
     "metadata": {
      "needs_background": "light"
     },
     "output_type": "display_data"
    }
   ],
   "source": [
    "x_ax = range(len(y_test))\n",
    "plt.plot(x_ax, y_test, label=\"original\")\n",
    "plt.plot(x_ax, y_pred, label=\"predicted\")\n",
    "plt.title(\"Speed test and predicted data\")\n",
    "plt.legend()\n",
    "plt.show()"
   ]
  },
  {
   "cell_type": "code",
   "execution_count": 13,
   "metadata": {},
   "outputs": [
    {
     "name": "stdout",
     "output_type": "stream",
     "text": [
      "      year  month  day  hour  weekday  quarter  dayofyear  weekofyear  \\\n",
      "0     2018      1    1     2        0        1          1           1   \n",
      "1     2018      1    1     5        0        1          1           1   \n",
      "2     2018      1    1     7        0        1          1           1   \n",
      "3     2018      1    1     8        0        1          1           1   \n",
      "4     2018      1    1    10        0        1          1           1   \n",
      "...    ...    ...  ...   ...      ...      ...        ...         ...   \n",
      "3499  2018     12   31    17        0        4        365           1   \n",
      "3500  2018     12   31    19        0        4        365           1   \n",
      "3501  2018     12   31    21        0        4        365           1   \n",
      "3502  2018     12   31    22        0        4        365           1   \n",
      "3503  2018     12   31    23        0        4        365           1   \n",
      "\n",
      "      isBusyHour  is_public_holiday  MaxTemp  MinTemp  isRain  \n",
      "0              0                  0     19.0     16.3       0  \n",
      "1              0                  0     19.0     16.3       0  \n",
      "2              1                  0     19.0     16.3       0  \n",
      "3              1                  0     19.0     16.3       0  \n",
      "4              1                  0     19.0     16.3       0  \n",
      "...          ...                ...      ...      ...     ...  \n",
      "3499           1                  0     15.6     11.8       0  \n",
      "3500           1                  0     15.6     11.8       0  \n",
      "3501           0                  0     15.6     11.8       0  \n",
      "3502           0                  0     15.6     11.8       0  \n",
      "3503           0                  0     15.6     11.8       0  \n",
      "\n",
      "[3504 rows x 13 columns]\n"
     ]
    },
    {
     "name": "stderr",
     "output_type": "stream",
     "text": [
      "/opt/conda/lib/python3.7/site-packages/ipykernel_launcher.py:10: FutureWarning: Series.dt.weekofyear and Series.dt.week have been deprecated.  Please use Series.dt.isocalendar().week instead.\n",
      "  # Remove the CWD from sys.path while we load stuff.\n"
     ]
    }
   ],
   "source": [
    "testid = test.copy()\n",
    "test['date'] = pd.to_datetime(test['date'])\n",
    "test['year'] = test['date'].dt.year\n",
    "test['month'] = test['date'].dt.month\n",
    "test['day'] = test['date'].dt.day\n",
    "test['hour'] = test['date'].dt.hour\n",
    "test['weekday']=test['date'].dt.dayofweek\n",
    "test['quarter'] = test['date'].dt.quarter\n",
    "test['dayofyear'] = test['date'].dt.dayofyear\n",
    "test['weekofyear'] = test['date'].dt.week\n",
    "test['isBusyHour'] =test['date'].dt.time.apply(lambda x: 0 if \\\n",
    "                                                 datetime.time(0) <= x <= datetime.time(6) \\\n",
    "                                                 or datetime.time(20) <= x <= datetime.time(23) else 1)\n",
    "test['is_public_holiday'] = train['date'].apply(lambda x: 1 if x in public_vacation_list else 0)\n",
    "test = pd.merge(test, weather,on=['year','month', 'day'])\n",
    "del test['date']\n",
    "del test['id']\n",
    "print(test)"
   ]
  },
  {
   "cell_type": "code",
   "execution_count": 15,
   "metadata": {},
   "outputs": [
    {
     "name": "stdout",
     "output_type": "stream",
     "text": [
      "        id      speed\n",
      "0        0  47.532520\n",
      "1        1  47.651871\n",
      "2        2  34.934437\n",
      "3        3  28.207491\n",
      "4        4  35.279095\n",
      "...    ...        ...\n",
      "3499  3499  12.185925\n",
      "3500  3500  25.204300\n",
      "3501  3501  44.415489\n",
      "3502  3502  39.550865\n",
      "3503  3503  42.409000\n",
      "\n",
      "[3504 rows x 2 columns]\n",
      "(3504, 2)\n"
     ]
    }
   ],
   "source": [
    "result = xgbr.predict(test)\n",
    "output = pd.DataFrame(result, columns = ['speed'])\n",
    "submission=pd.concat([testid['id'],output],axis=1)\n",
    "print(submission)\n",
    "print(submission.shape)"
   ]
  },
  {
   "cell_type": "code",
   "execution_count": 178,
   "metadata": {},
   "outputs": [],
   "source": [
    "submission.to_csv('result4.csv',index=False)"
   ]
  }
 ],
 "metadata": {
  "kernelspec": {
   "display_name": "Python 3",
   "language": "python",
   "name": "python3"
  },
  "language_info": {
   "codemirror_mode": {
    "name": "ipython",
    "version": 3
   },
   "file_extension": ".py",
   "mimetype": "text/x-python",
   "name": "python",
   "nbconvert_exporter": "python",
   "pygments_lexer": "ipython3",
   "version": "3.8.5"
  }
 },
 "nbformat": 4,
 "nbformat_minor": 4
}
